{
 "cells": [
  {
   "attachments": {},
   "cell_type": "markdown",
   "metadata": {},
   "source": [
    "### Imports"
   ]
  },
  {
   "cell_type": "code",
   "execution_count": null,
   "metadata": {},
   "outputs": [],
   "source": [
    "import pandas as pd\n",
    "import numpy as np\n",
    "import missingno as msno\n",
    "import matplotlib.pyplot as plt\n",
    "import seaborn as sns\n",
    "from sklearn.model_selection import train_test_split\n",
    "from sklearn.experimental import enable_iterative_imputer\n",
    "from sklearn.impute import SimpleImputer, IterativeImputer, KNNImputer\n",
    "from sklearn.ensemble import RandomForestRegressor\n",
    "from sklearn.compose import ColumnTransformer\n",
    "from sklearn.preprocessing import FunctionTransformer\n",
    "from sklearn.pipeline import Pipeline\n",
    "import plotly.express as px"
   ]
  },
  {
   "cell_type": "code",
   "execution_count": null,
   "metadata": {},
   "outputs": [],
   "source": [
    "data=pd.read_csv(\"data\\products.csv\",sep='\t')\n",
    "data.head()"
   ]
  },
  {
   "cell_type": "code",
   "execution_count": null,
   "metadata": {},
   "outputs": [],
   "source": [
    "data.shape"
   ]
  },
  {
   "cell_type": "code",
   "execution_count": null,
   "metadata": {},
   "outputs": [],
   "source": [
    "data.columns"
   ]
  },
  {
   "attachments": {},
   "cell_type": "markdown",
   "metadata": {},
   "source": [
    "### Complétude des données"
   ]
  },
  {
   "cell_type": "code",
   "execution_count": null,
   "metadata": {},
   "outputs": [],
   "source": [
    "data.info(verbose=True,show_counts=True)"
   ]
  },
  {
   "cell_type": "code",
   "execution_count": null,
   "metadata": {},
   "outputs": [],
   "source": [
    "msno.bar(data)"
   ]
  },
  {
   "cell_type": "code",
   "execution_count": null,
   "metadata": {},
   "outputs": [],
   "source": [
    "#Vérification des lignes dupliquées par code\n",
    "data[(data.duplicated(subset='code',keep=False))&(~data['code'].isna())].sort_values(by='code')"
   ]
  },
  {
   "cell_type": "code",
   "execution_count": null,
   "metadata": {},
   "outputs": [],
   "source": [
    "#pnns_groups_1 contient les catégories les plus proches de la séparation général/fromages/boissons du calcul du nutriscore\n",
    "data['pnns_groups_1'].unique()"
   ]
  },
  {
   "cell_type": "code",
   "execution_count": null,
   "metadata": {},
   "outputs": [],
   "source": [
    "data['countries_fr']"
   ]
  },
  {
   "cell_type": "code",
   "execution_count": 2,
   "metadata": {},
   "outputs": [],
   "source": [
    "def filter_df(df):\n",
    "    print('Séléction des données pour la France et filtrage des colonnes')\n",
    "    print('Nombre de lignes et colonnes initial :',df.shape)\n",
    "    filter_by_country=[('France' in str(countries)) for countries in df['countries_fr']]\n",
    "    wanted_cat_columns=['code','countries_fr','last_modified_datetime','product_name','pnns_groups_1']\n",
    "    filter_num=['_100g' in str(col) for col in df.columns]\n",
    "    data=pd.concat([df.loc[filter_by_country,wanted_cat_columns],df.loc[filter_by_country,filter_num]],axis=1)\n",
    "    print('Nombre de lignes et colonnes final',data.shape)\n",
    "    return data"
   ]
  },
  {
   "cell_type": "code",
   "execution_count": null,
   "metadata": {},
   "outputs": [],
   "source": [
    "filtered_df=filter_df(data)\n"
   ]
  },
  {
   "cell_type": "code",
   "execution_count": 3,
   "metadata": {},
   "outputs": [],
   "source": [
    "def drop_empty (df) :\n",
    "    print('Suppression des lignes sans nom de produit, avec moins de 50% de données numériques ou dupliquées et supprésion des colonnes vides (>25% nans)')\n",
    "    print('Nombre de lignes et colonnes initial :',df.shape)\n",
    "    df.dropna(subset='product_name',inplace=True)\n",
    "    df.drop_duplicates(subset='code',keep='last',inplace=True)\n",
    "    df.dropna(axis=1,thresh=df.shape[0]/4,inplace=True)\n",
    "    df.dropna(subset=df.select_dtypes('number').columns,thresh=(df.select_dtypes('number').columns.shape[0])/2,inplace=True)\n",
    "    print('Nombre de lignes et colonnes final',df.shape)\n",
    "    nutri_cols=['pnns_groups_1','energy_100g','fat_100g','saturated-fat_100g','sugars_100g','proteins_100g','fiber_100g','sodium_100g','fruits-vegetables-nuts_100g']\n",
    "    for col in nutri_cols:\n",
    "        if col not in df.columns:\n",
    "            print('Vérification des sous indicateurs de nutri-score : Trop de valeurs manquantes pour la colonne ',col,' : colonne supprimée.')\n",
    "    msno.bar(df)\n",
    "    plt.show()\n",
    "    return df\n"
   ]
  },
  {
   "cell_type": "code",
   "execution_count": null,
   "metadata": {},
   "outputs": [],
   "source": [
    "filtered_df=drop_empty(filtered_df)"
   ]
  },
  {
   "cell_type": "code",
   "execution_count": null,
   "metadata": {},
   "outputs": [],
   "source": [
    "msno.matrix(filtered_df)\n",
    "plt.show()"
   ]
  },
  {
   "attachments": {},
   "cell_type": "markdown",
   "metadata": {},
   "source": [
    "Les variables nécessaires au calcul du nutriscore sont : \n",
    "- type de produit : général,fromage,matières grasses ajoutées ou boisson (déductible de pnns_groups_1) \n",
    "- valeur énérgétique (energy_100g)\n",
    "- matières grasses (fat_100g)\n",
    "- Acides gras saturés (saturated-fat_100g)\n",
    "- Sucres (sugars_100g) : Rq - Les sucres sont un type de carbohydrate\n",
    "- Protéines (proteins_100g)\n",
    "- Fibres (fiber_100g)\n",
    "- Sel ou Sodium (salt_100g ou sodium_100g) : Rq - une formule de conversion sel vers sodium est proposée dans le calcul du nutriscore à [sodium]=[sel]*1000/2.5\n",
    "\n",
    "(On retrouve l'ensemble des données ci-dessus dans le dataset filtré.)\n",
    "\n",
    "- Pourcentage de fruits, légumes, légumineuses, fruits à coque, huiles de colza, de noix et d'olive (%)\n",
    "Cet indicateur n'a pratiquement pas de données renseignées, il a donc été écarté.\n",
    "\n",
    "\n"
   ]
  },
  {
   "cell_type": "code",
   "execution_count": null,
   "metadata": {},
   "outputs": [],
   "source": [
    "filtered_df.duplicated().any()"
   ]
  },
  {
   "attachments": {},
   "cell_type": "markdown",
   "metadata": {},
   "source": [
    "### Valeurs abhérentes"
   ]
  },
  {
   "attachments": {},
   "cell_type": "markdown",
   "metadata": {},
   "source": [
    "#### Colonnes numériques"
   ]
  },
  {
   "attachments": {},
   "cell_type": "markdown",
   "metadata": {},
   "source": [
    "##### Filtre par intervalles de valeurs acceptables"
   ]
  },
  {
   "cell_type": "code",
   "execution_count": null,
   "metadata": {},
   "outputs": [],
   "source": [
    "filtered_df.describe()"
   ]
  },
  {
   "attachments": {},
   "cell_type": "markdown",
   "metadata": {},
   "source": [
    "La valeur d'énergie peut aller jusqu'à 900kcal soit 3780 KJ , la valeur de sodium en mg/100g, l'échelle de nutritrion score va de -15 à 40 et les autres valeurs sont en g/100g, ce qui nous donne les limites suivantes :"
   ]
  },
  {
   "cell_type": "code",
   "execution_count": 4,
   "metadata": {},
   "outputs": [],
   "source": [
    "def drop_outofbounds(df):\n",
    "    print('Verification des dépassements des limites de concentration pour 100g')\n",
    "    #Vérification sodium\n",
    "    filtre=(df['sodium_100g']>100000)|(df['sodium_100g']<0)\n",
    "    if (filtre).any():\n",
    "        print('Sodium : Valeurs hors limites : ',filtre.sum(),' lignes supprimées')\n",
    "        display(df[filtre])\n",
    "        df.drop(df[filtre].index,inplace=True)\n",
    "\n",
    "    #Vérification nutriscores\n",
    "    filtre_bas_nutriscore=df['nutrition-score-fr_100g']<-15\n",
    "    filtre_haut_nutriscore=df['nutrition-score-fr_100g']>40\n",
    "    filtre=filtre_bas_nutriscore|filtre_haut_nutriscore\n",
    "    if (filtre).any():\n",
    "        print('Nutriscore fr : Valeurs hors limites :',(filtre).sum(),'lignes supprimées')\n",
    "        display(df[filtre])\n",
    "        df.drop(df[filtre].index,inplace=True)\n",
    "    filtre_bas_nutriscore=df['nutrition-score-uk_100g']<-15\n",
    "    filtre_haut_nutriscore=df['nutrition-score-uk_100g']>40\n",
    "    filtre=filtre_bas_nutriscore|filtre_haut_nutriscore\n",
    "    if (filtre).any():\n",
    "        print('Nutriscore uk : Valeurs hors limites :',(filtre).sum(),'lignes supprimées')\n",
    "        display(df[filtre])\n",
    "        df.drop(df[filtre].index,inplace=True)\n",
    "\n",
    "    #Vérification calories\n",
    "    filtre=(df['energy_100g']>3780)|(df['energy_100g']<0)\n",
    "    if (filtre).any():\n",
    "        print('Calories : Valeurs hors limites : ',(filtre).sum(),' lignes supprimées')\n",
    "        display(df[filtre])\n",
    "        df.drop(df[filtre].index,inplace=True)\n",
    "\n",
    "    #Vérification des autres colonnes\n",
    "    col_list=[col for col in df.columns if ('_100g' in str(col))&(col not in ['sodium_100g','nutrition-score-fr_100g','nutrition-score-uk_100g','energy_100g'])]\n",
    "\n",
    "    for col in col_list:\n",
    "        filtre=(df[col]>100)|(df[col]<0)\n",
    "        if (filtre).any():\n",
    "            print(col,': Valeurs hors limites : ',(filtre).sum(),' lignes supprimées')\n",
    "            display(df [filtre])\n",
    "            df.drop(df[filtre].index,inplace=True)\n",
    "    return (df)"
   ]
  },
  {
   "cell_type": "code",
   "execution_count": null,
   "metadata": {},
   "outputs": [],
   "source": [
    "#Tests pour la fonction drop_outofbounds\n",
    "df_temp=filtered_df.copy()\n",
    "df_temp.loc[0,'energy_100g']=-30\n",
    "df_temp.loc[1,'energy_100g']=500000\n",
    "df_temp.loc[3,'sodium_100g']=-30\n",
    "df_temp.loc[4,'sodium_100g']=500000\n",
    "df_temp.loc[5,'nutrition-score-uk_100g']=-30\n",
    "df_temp.loc[6,'nutrition-score-fr_100g']=50\n"
   ]
  },
  {
   "cell_type": "code",
   "execution_count": null,
   "metadata": {},
   "outputs": [],
   "source": [
    "drop_outofbounds(df_temp)"
   ]
  },
  {
   "cell_type": "code",
   "execution_count": null,
   "metadata": {},
   "outputs": [],
   "source": [
    "filtered_df=drop_outofbounds(filtered_df)"
   ]
  },
  {
   "cell_type": "code",
   "execution_count": null,
   "metadata": {},
   "outputs": [],
   "source": [
    "filtered_df.describe()"
   ]
  },
  {
   "attachments": {},
   "cell_type": "markdown",
   "metadata": {},
   "source": [
    "##### Filtre par vérification de la cohérence entre variables"
   ]
  },
  {
   "attachments": {},
   "cell_type": "markdown",
   "metadata": {},
   "source": [
    "Sodium vs sel"
   ]
  },
  {
   "cell_type": "code",
   "execution_count": null,
   "metadata": {},
   "outputs": [],
   "source": [
    "incoherences_sodium=filtered_df[((filtered_df['salt_100g']*1000/2.5).round(0)-(filtered_df['sodium_100g']))>1][['salt_100g','sodium_100g']]\n",
    "incoherences_sodium['sodium_estimé']=incoherences_sodium['salt_100g']*1000/2.5\n",
    "incoherences_sodium"
   ]
  },
  {
   "cell_type": "code",
   "execution_count": null,
   "metadata": {},
   "outputs": [],
   "source": [
    "#Il a l'air de s'agir majoritairement d'erreur d'unité pour le sodium, saisi en g ald mg"
   ]
  },
  {
   "cell_type": "code",
   "execution_count": null,
   "metadata": {},
   "outputs": [],
   "source": [
    "# Ecarts entre sodium_estimé (en mg) et sodium_100g (hypothèse : saisi en g pour ceux où il y a des incohérences)\n",
    "incoherences_sodium[(incoherences_sodium['sodium_estimé']/1000-incoherences_sodium['sodium_100g'])>1]"
   ]
  },
  {
   "cell_type": "code",
   "execution_count": 17,
   "metadata": {},
   "outputs": [],
   "source": [
    "def correct_sodium_unit(df):\n",
    "    filtre_sur_ecarts_sodium =((df['salt_100g']*1000/2.5).round(0)-(df['sodium_100g']))>1000\n",
    "    filtre_sur_erreurs_unite = ((df['salt_100g']*1000/2.5)/1000-df['sodium_100g'])<1\n",
    "\n",
    "    df.loc[filtre_sur_ecarts_sodium&filtre_sur_erreurs_unite,'sodium_100g']=df.loc[filtre_sur_ecarts_sodium&filtre_sur_erreurs_unite,'sodium_100g']*1000\n",
    "    print('Correction des unités de sodium et suppression des lignes en anomalie')\n",
    "    print('Nombre de lignes initial=',df.shape[0])\n",
    "    df.drop(index=df[filtre_sur_ecarts_sodium].index,inplace=True) #Drop les lignes sur lequel il y a encore des erreurs\n",
    "    print('Nombre de lignes final=',df.shape[0])\n",
    "    return (df)\n",
    "    "
   ]
  },
  {
   "cell_type": "code",
   "execution_count": null,
   "metadata": {},
   "outputs": [],
   "source": [
    "filtered_df=correct_sodium_unit(filtered_df)"
   ]
  },
  {
   "cell_type": "code",
   "execution_count": null,
   "metadata": {},
   "outputs": [],
   "source": [
    "sns.scatterplot(x=filtered_df['salt_100g'],\n",
    "              y=filtered_df['sodium_100g'],\n",
    "              color='slateblue',\n",
    "              )\n",
    "plt.suptitle('Teneur en sodium en fonction de la teneur en sel')    \n",
    "plt.xlabel('Sel (en g par 100g de produit)')      \n",
    "plt.ylabel('Sodium (en mg par 100g de produit)')      \n",
    "plt.show()"
   ]
  },
  {
   "attachments": {},
   "cell_type": "markdown",
   "metadata": {},
   "source": [
    "Carbohydrates vs sucre"
   ]
  },
  {
   "cell_type": "code",
   "execution_count": null,
   "metadata": {},
   "outputs": [],
   "source": [
    "# Sucres sont compris dans les carbohydrates :\n",
    "filtered_df[(filtered_df['carbohydrates_100g']-filtered_df['sugars_100g'])<-0.9] #Marge de 0.9 prise pour les arrondis d'unité (ex carb=11.67,sug=11.7)"
   ]
  },
  {
   "cell_type": "code",
   "execution_count": 6,
   "metadata": {},
   "outputs": [],
   "source": [
    "def drop_sugar_anomalies (df):\n",
    "    print('Suppression des anomalies en sucre')\n",
    "    print('Nombre de lignes initial=',df.shape[0])\n",
    "    ano_index=(df[(df['carbohydrates_100g']-df['sugars_100g'])<-0.9]).index\n",
    "    df.drop(index=ano_index,inplace=True)\n",
    "    print('Nombre de lignes final=',df.shape[0])\n",
    "    return (df)"
   ]
  },
  {
   "cell_type": "code",
   "execution_count": null,
   "metadata": {},
   "outputs": [],
   "source": [
    "filtered_df=drop_sugar_anomalies (filtered_df)"
   ]
  },
  {
   "cell_type": "code",
   "execution_count": null,
   "metadata": {},
   "outputs": [],
   "source": [
    "colors = [\"white\", \"#FFD700\"]  # White for empty zones, gold for density\n",
    "cmap = sns.color_palette('Accent')"
   ]
  },
  {
   "cell_type": "code",
   "execution_count": null,
   "metadata": {},
   "outputs": [],
   "source": [
    "sns.jointplot(x=filtered_df['sugars_100g'],\n",
    "              y=filtered_df['carbohydrates_100g'],\n",
    "              kind=\"hex\",\n",
    "              height=5,\n",
    "              color='slateblue',\n",
    "              cmap=sns.cubehelix_palette(start=2, dark=-20, light=1, reverse=False, as_cmap=True))\n",
    "plt.suptitle('Teneur en carbohydrates en fonction de la teneur en sucres')    \n",
    "plt.xlabel('Sucres (en g par 100g de produit)')      \n",
    "plt.ylabel('Carbohydrates (en g par 100g de produit)')      \n",
    "plt.show()"
   ]
  },
  {
   "attachments": {},
   "cell_type": "markdown",
   "metadata": {},
   "source": [
    "Saturated fat vs fat"
   ]
  },
  {
   "cell_type": "code",
   "execution_count": null,
   "metadata": {},
   "outputs": [],
   "source": [
    "# Saturated fat est compris dans fat\n",
    "filtered_df[(filtered_df['fat_100g']-filtered_df['saturated-fat_100g'])<-0.9]"
   ]
  },
  {
   "cell_type": "code",
   "execution_count": 21,
   "metadata": {},
   "outputs": [],
   "source": [
    "def drop_fat_anomalies (df):\n",
    "    print('Suppression des anomalies en gras')\n",
    "    print('Nombre de lignes initial=',df.shape[0])\n",
    "    ano_index=(df[(df['fat_100g']-df['saturated-fat_100g'])<-0.9]).index\n",
    "    df.drop(index=ano_index,inplace=True)\n",
    "    print('Nombre de lignes final=',df.shape[0])\n",
    "    return (df)"
   ]
  },
  {
   "cell_type": "code",
   "execution_count": null,
   "metadata": {},
   "outputs": [],
   "source": [
    "filtered_df=drop_fat_anomalies(filtered_df)"
   ]
  },
  {
   "cell_type": "code",
   "execution_count": null,
   "metadata": {},
   "outputs": [],
   "source": [
    "sns.jointplot(x=filtered_df['saturated-fat_100g'],\n",
    "              y=filtered_df['fat_100g'],\n",
    "              kind=\"hex\",\n",
    "              height=5,\n",
    "              color='slateblue',\n",
    "              cmap=sns.cubehelix_palette(start=2, dark=-20, light=1, reverse=False, as_cmap=True))\n",
    "plt.suptitle('Teneur en gras en fonction de la teneur en acides gras saturés')    \n",
    "plt.xlabel('Acides gras saturés (en g par 100g de produit)')      \n",
    "plt.ylabel('Gras (en g par 100g de produit)')      \n",
    "plt.show()"
   ]
  },
  {
   "attachments": {},
   "cell_type": "markdown",
   "metadata": {},
   "source": [
    "##### Vérification statistique"
   ]
  },
  {
   "cell_type": "code",
   "execution_count": null,
   "metadata": {},
   "outputs": [],
   "source": [
    "filtered_df.describe()"
   ]
  },
  {
   "cell_type": "code",
   "execution_count": null,
   "metadata": {},
   "outputs": [],
   "source": [
    "filter_num=['_100g' in str(col) for col in filtered_df.columns]\n",
    "filtered_df.loc[:,filter_num].columns"
   ]
  },
  {
   "cell_type": "code",
   "execution_count": null,
   "metadata": {},
   "outputs": [],
   "source": [
    "fig,axes=plt.subplots(-(-len(filtered_df.loc[:,filter_num].columns)//3),3,figsize=(15, 15))\n",
    "fig.tight_layout(pad=4.0)\n",
    "for col,ax in zip(filtered_df.loc[:,filter_num].columns,axes.ravel()):\n",
    "    sns.boxplot(y=filtered_df[col],ax=ax)\n",
    "plt.suptitle('Distributions des variables')\n",
    "plt.show()"
   ]
  },
  {
   "cell_type": "code",
   "execution_count": null,
   "metadata": {},
   "outputs": [],
   "source": [
    "fig,axes=plt.subplots(-(-len(filtered_df.loc[:,filter_num].columns)//3),3,figsize=(15, 15))\n",
    "fig.tight_layout(pad=4.0)\n",
    "for col,ax in zip(filtered_df.loc[:,filter_num].columns,axes.ravel()):\n",
    "    sns.histplot(filtered_df[col],ax=ax)\n",
    "    ax.set_yscale(\"log\")\n",
    "plt.suptitle('Distributions des variables')\n",
    "plt.show()"
   ]
  },
  {
   "cell_type": "code",
   "execution_count": null,
   "metadata": {},
   "outputs": [],
   "source": [
    "num_stats=filtered_df.describe().T\n",
    "num_stats['IQR']=num_stats['75%']-num_stats['25%']\n",
    "num_stats['high_bound']=num_stats['75%']+1.5*num_stats['IQR']\n",
    "num_stats['low_bound']=num_stats['25%']-1.5*num_stats['IQR']\n",
    "num_stats"
   ]
  },
  {
   "attachments": {},
   "cell_type": "markdown",
   "metadata": {},
   "source": [
    "Rq : Les bornes inférieures sont négatives, vu qu'il y a déjà eu un filtre sur les valeurs <0, cette contrainte n'est pas utile."
   ]
  },
  {
   "cell_type": "code",
   "execution_count": null,
   "metadata": {},
   "outputs": [],
   "source": [
    "high_energy=filtered_df[filtered_df['energy_100g']>num_stats.loc['energy_100g','high_bound']]\n",
    "high_energy"
   ]
  },
  {
   "cell_type": "code",
   "execution_count": null,
   "metadata": {},
   "outputs": [],
   "source": [
    "high_energy['pnns_groups_1'].unique()"
   ]
  },
  {
   "cell_type": "code",
   "execution_count": null,
   "metadata": {},
   "outputs": [],
   "source": [
    "high_energy['product_name'].unique()"
   ]
  },
  {
   "attachments": {},
   "cell_type": "markdown",
   "metadata": {},
   "source": [
    "Les produits au dessus du seuil ont bien des valeurs caloriques élévées (ex:3700 KJ en moyenne pour une huile d'olive). Il ne s'agit pas de valeurs abhérentes."
   ]
  },
  {
   "cell_type": "code",
   "execution_count": null,
   "metadata": {},
   "outputs": [],
   "source": [
    "len(filtered_df['pnns_groups_1'].unique())"
   ]
  },
  {
   "cell_type": "code",
   "execution_count": null,
   "metadata": {},
   "outputs": [],
   "source": [
    "plt.figure(figsize=(15,10))\n",
    "sns.boxplot(data=filtered_df,y='energy_100g',x='pnns_groups_1')\n",
    "plt.xlabel('pnns groups',fontsize=10)\n",
    "plt.xticks(fontsize=7, rotation=90)\n",
    "plt.hlines(xmin=0,xmax=len(filtered_df['pnns_groups_1'].unique())-1,y=num_stats.loc['energy_100g','high_bound'],color='red')\n",
    "plt.title('Calories (en KJ) pour chaque groupe de produits et seuil haut de la méthode interquantile')\n",
    "plt.show()"
   ]
  },
  {
   "cell_type": "code",
   "execution_count": null,
   "metadata": {},
   "outputs": [],
   "source": [
    "high_fat=filtered_df[filtered_df['fat_100g']>num_stats.loc['fat_100g','high_bound']]\n",
    "high_fat"
   ]
  },
  {
   "cell_type": "code",
   "execution_count": null,
   "metadata": {},
   "outputs": [],
   "source": [
    "high_fat['pnns_groups_1'].unique()"
   ]
  },
  {
   "cell_type": "code",
   "execution_count": null,
   "metadata": {},
   "outputs": [],
   "source": [
    "list(high_fat['product_name'].unique())"
   ]
  },
  {
   "cell_type": "code",
   "execution_count": null,
   "metadata": {},
   "outputs": [],
   "source": [
    "plt.figure(figsize=(15,10))\n",
    "sns.boxplot(data=filtered_df,y='fat_100g',x='pnns_groups_1')\n",
    "plt.xlabel('pnns groups',fontsize=10)\n",
    "plt.xticks(fontsize=7, rotation=90)\n",
    "plt.hlines(xmin=0,xmax=len(filtered_df['pnns_groups_1'].unique())-1,y=num_stats.loc['fat_100g','high_bound'],color='red')\n",
    "plt.title('Gras (en g) pour chaque groupe de produits et seuil haut de la méthode interquantile')\n",
    "plt.show()"
   ]
  },
  {
   "cell_type": "code",
   "execution_count": null,
   "metadata": {},
   "outputs": [],
   "source": [
    "high_fat[high_fat['pnns_groups_1']=='sugary-snacks']"
   ]
  },
  {
   "cell_type": "code",
   "execution_count": null,
   "metadata": {},
   "outputs": [],
   "source": [
    "high_fat[high_fat['pnns_groups_1']=='Cereals and potatoes']"
   ]
  },
  {
   "attachments": {},
   "cell_type": "markdown",
   "metadata": {},
   "source": [
    "Rq: Dans céréales et patates, qui d'après le nom semblerait être un groupe à faible teneur en gras, on retrouve du beurre de cacahuète et du tahin à forte teneur en gras. Ces valeurs ne sont pas abhérentes."
   ]
  },
  {
   "cell_type": "code",
   "execution_count": null,
   "metadata": {},
   "outputs": [],
   "source": [
    "high_sugar=filtered_df[filtered_df['sugars_100g']>num_stats.loc['sugars_100g','high_bound']]\n",
    "high_sugar"
   ]
  },
  {
   "cell_type": "code",
   "execution_count": null,
   "metadata": {},
   "outputs": [],
   "source": [
    "list(high_sugar['product_name'].unique())"
   ]
  },
  {
   "attachments": {},
   "cell_type": "markdown",
   "metadata": {},
   "source": [
    "On retrouve à nouveau des produits avec des valeurs de teneur en sucre réellement élévées (ex: miel,confiseries)"
   ]
  },
  {
   "cell_type": "code",
   "execution_count": null,
   "metadata": {},
   "outputs": [],
   "source": [
    "plt.figure(figsize=(15,10))\n",
    "sns.boxplot(data=filtered_df,y='sugars_100g',x='pnns_groups_1')\n",
    "plt.xlabel('pnns groups',fontsize=10)\n",
    "plt.xticks(fontsize=7, rotation=90)\n",
    "plt.hlines(xmin=0,xmax=len(filtered_df['pnns_groups_1'].unique())-1,y=num_stats.loc['sugars_100g','high_bound'],color='red')\n",
    "plt.title('Sucres (en g) pour chaque groupe de produits et seuil haut de la méthode interquantile')\n",
    "plt.show()"
   ]
  },
  {
   "attachments": {},
   "cell_type": "markdown",
   "metadata": {},
   "source": [
    "Compte tenu de la vraisemblance des données observées, celles-ci ne peuvent être considérées comme abhérentes, la méthode de filtrage des données d'après une vérification statistique ne sera donc pas appliquée."
   ]
  },
  {
   "attachments": {},
   "cell_type": "markdown",
   "metadata": {},
   "source": [
    "#### Colonnes catégorielles"
   ]
  },
  {
   "cell_type": "code",
   "execution_count": null,
   "metadata": {},
   "outputs": [],
   "source": [
    "filtered_df.loc[:,(filtered_df.dtypes==object).to_list()]"
   ]
  },
  {
   "cell_type": "code",
   "execution_count": null,
   "metadata": {},
   "outputs": [],
   "source": [
    "filtered_df.loc[:,(filtered_df.dtypes==object).to_list()].describe()"
   ]
  },
  {
   "cell_type": "code",
   "execution_count": null,
   "metadata": {},
   "outputs": [],
   "source": [
    "filtered_df['pnns_groups_1'].unique()"
   ]
  },
  {
   "cell_type": "code",
   "execution_count": 8,
   "metadata": {},
   "outputs": [],
   "source": [
    "def replace_labels(df):\n",
    "    print('Correction des labels pour pnns_groups_1 :')\n",
    "    print('Labels initiaux :',df['pnns_groups_1'].unique())\n",
    "    df['pnns_groups_1'].replace(to_replace='fruits-and-vegetables', value='Fruits and vegetables',inplace=True)\n",
    "    df['pnns_groups_1'].replace(to_replace='sugary-snacks', value='Sugary snacks',inplace=True)\n",
    "    df['pnns_groups_1'].replace(to_replace='cereals-and-potatoes', value='Cereals and potatoes',inplace=True)\n",
    "    print('Labels corrigés :',df['pnns_groups_1'].unique())\n",
    "    return df"
   ]
  },
  {
   "cell_type": "code",
   "execution_count": null,
   "metadata": {},
   "outputs": [],
   "source": [
    "filtered_df=replace_labels(filtered_df)"
   ]
  },
  {
   "cell_type": "code",
   "execution_count": null,
   "metadata": {},
   "outputs": [],
   "source": [
    "plt.figure(figsize=(15,5))\n",
    "sns.countplot(x=filtered_df['pnns_groups_1'],palette='deep')\n",
    "plt.xticks(size=10,rotation=45)\n",
    "plt.title('Nombre de produits par catégorie')\n",
    "plt.show()"
   ]
  },
  {
   "cell_type": "code",
   "execution_count": null,
   "metadata": {},
   "outputs": [],
   "source": [
    "#Vérification de la cohérence des dates\n",
    "filtered_df['last_modified_datetime']=pd.to_datetime(filtered_df['last_modified_datetime'])\n",
    "\n",
    "filtered_df['last_modified_datetime'].describe()"
   ]
  },
  {
   "attachments": {},
   "cell_type": "markdown",
   "metadata": {},
   "source": [
    "### Imputation des données"
   ]
  },
  {
   "cell_type": "code",
   "execution_count": null,
   "metadata": {},
   "outputs": [],
   "source": [
    "msno.matrix(filtered_df)"
   ]
  },
  {
   "cell_type": "code",
   "execution_count": null,
   "metadata": {},
   "outputs": [],
   "source": [
    "msno.heatmap(filtered_df,figsize=(10,5),fontsize=10)\n",
    "plt.show()"
   ]
  },
  {
   "attachments": {},
   "cell_type": "markdown",
   "metadata": {},
   "source": [
    "#### Création d'un dataframe pour tester les imputers"
   ]
  },
  {
   "cell_type": "code",
   "execution_count": null,
   "metadata": {},
   "outputs": [],
   "source": [
    "complete=filtered_df.iloc[:,filter_num].dropna(axis=0)\n",
    "columns=complete.columns\n",
    "index=complete.index\n",
    "complete"
   ]
  },
  {
   "cell_type": "code",
   "execution_count": null,
   "metadata": {},
   "outputs": [],
   "source": [
    "X=complete.copy()\n",
    "index_rows=np.random.randint(0,complete.shape[0],size=5000)\n",
    "index_cols=np.random.randint(0,complete.shape[1],size=5000)\n",
    "for i,j in zip (index_rows,index_cols):\n",
    "   X.iloc[i,j]=np.nan\n",
    "\n",
    "msno.matrix(X)"
   ]
  },
  {
   "cell_type": "code",
   "execution_count": null,
   "metadata": {},
   "outputs": [],
   "source": [
    "sns.heatmap(X.corr(),cmap='coolwarm')\n",
    "plt.title('Corrélation entre les variables')\n",
    "plt.show()"
   ]
  },
  {
   "attachments": {},
   "cell_type": "markdown",
   "metadata": {},
   "source": [
    "#### Test des imputers"
   ]
  },
  {
   "cell_type": "code",
   "execution_count": null,
   "metadata": {},
   "outputs": [],
   "source": [
    "median_imp=SimpleImputer(strategy='median')\n",
    "iterative_bayridge_imp=IterativeImputer()\n",
    "iterative_forest_imp=IterativeImputer(estimator=RandomForestRegressor(),n_nearest_features=5,tol=1) #Réduction du nombre de features et augmentation de la tolerance pour earlystop afin de diminue le temps de calcul.\n",
    "knn_close_imputer=KNNImputer(n_neighbors=10)\n",
    "knn_far_imputer=KNNImputer(n_neighbors=1000)"
   ]
  },
  {
   "cell_type": "code",
   "execution_count": 9,
   "metadata": {},
   "outputs": [],
   "source": [
    "def get_imputer_errors (X_imp):\n",
    "    X_imp=pd.DataFrame(X_imp)\n",
    "    X_imp.columns=columns\n",
    "    X_imp.index=index\n",
    "\n",
    "    print('Mean squared error by column :')\n",
    "    errors=((X_imp-complete)**2).mean(axis=0)\n",
    "    display(errors)\n",
    "    print('Total mean squared error :')\n",
    "    print(errors.mean().round(2))\n",
    "    return errors"
   ]
  },
  {
   "cell_type": "code",
   "execution_count": null,
   "metadata": {},
   "outputs": [],
   "source": [
    "X_med=median_imp.fit_transform(X)\n",
    "med_errors=get_imputer_errors(X_med)"
   ]
  },
  {
   "cell_type": "code",
   "execution_count": null,
   "metadata": {},
   "outputs": [],
   "source": [
    "X_iter_bayridge=iterative_bayridge_imp.fit_transform(X)\n",
    "iter_bayridge_errors=get_imputer_errors(X_iter_bayridge)"
   ]
  },
  {
   "cell_type": "code",
   "execution_count": null,
   "metadata": {},
   "outputs": [],
   "source": [
    "X_iter_forest=iterative_forest_imp.fit_transform(X)\n",
    "iter_forest_errors=get_imputer_errors(X_iter_forest)"
   ]
  },
  {
   "cell_type": "code",
   "execution_count": null,
   "metadata": {},
   "outputs": [],
   "source": [
    "X_knn_close=knn_close_imputer.fit_transform(X)\n",
    "knn_close_errors=get_imputer_errors(X_knn_close)"
   ]
  },
  {
   "cell_type": "code",
   "execution_count": null,
   "metadata": {},
   "outputs": [],
   "source": [
    "X_knn_far=knn_far_imputer.fit_transform(X)\n",
    "knn_far_errors=get_imputer_errors(X_knn_far)"
   ]
  },
  {
   "cell_type": "code",
   "execution_count": null,
   "metadata": {},
   "outputs": [],
   "source": [
    "imp_errors=pd.DataFrame({'Simple Imputer : Median':med_errors,\n",
    "                         'IterativeImputer : BayesianRidge':iter_bayridge_errors,\n",
    "                         'IterativeImputer : RandomForest' :iter_forest_errors,\n",
    "                         'Knn Imputer : 10 neighbors' : knn_close_errors,\n",
    "                         'Knn Imputer : 1000 neighbors' : knn_far_errors                         \n",
    "                         })\n",
    "\n",
    "sns.lineplot(data=imp_errors.reset_index().melt(id_vars='index'),x='index',y='value',hue='variable')\n",
    "plt.yscale('log')\n",
    "plt.xticks(rotation=90,size=8)\n",
    "plt.xlabel('Variables')\n",
    "plt.ylabel('MSE (log scale)')\n",
    "plt.title('Mean squared error of imputation by variable')\n",
    "plt.show()"
   ]
  },
  {
   "attachments": {},
   "cell_type": "markdown",
   "metadata": {},
   "source": [
    "Rq:\n",
    "\n",
    "SimpleImputer donne sans surprise les moins bons résultats.\n",
    "\n",
    "IterativeImputer avec BayesianRidge comme estimateur donne de très bons résultats pour le sel et sodium (qui sont en effet reliés par une relation linéaire), également pour le gras et les carbohydrates, mais étonnament moins pour les acides gras saturés et les sucres, pourtant corrélés à ces derniers, peut être à cause de leur moindre corrélation avec l'énergie.\n",
    "\n",
    "kNN-Imputer a faible nombre de voisins, IterativeImputer avec BayesianRidge et IterativeImputer avec RandomForest donnent globalement les meilleurs résultats et ce pour l'ensemble des variables. IterativeImputer avec RandomForest nécessite cependant un temps de calcul plus élévé. Il est donc intéressant de voir si un paramètrage plus fin de kNN-Imputer permet d'obtenir des résultats équivalents."
   ]
  },
  {
   "attachments": {},
   "cell_type": "markdown",
   "metadata": {},
   "source": [
    "#### Ajustement des paramètres de knn-imputer"
   ]
  },
  {
   "cell_type": "code",
   "execution_count": null,
   "metadata": {},
   "outputs": [],
   "source": [
    "def silent_get_imputer_errors (X_imp):\n",
    "    X_imp=pd.DataFrame(X_imp)\n",
    "    X_imp.columns=columns\n",
    "    X_imp.index=index\n",
    "    errors=((X_imp-complete)**2).mean(axis=0)\n",
    "    return errors"
   ]
  },
  {
   "cell_type": "code",
   "execution_count": null,
   "metadata": {},
   "outputs": [],
   "source": [
    "knn_errors=pd.DataFrame()\n",
    "for n in range(2,500,100):   \n",
    "    knn_imputer=KNNImputer(n_neighbors=n)\n",
    "    X_knn=knn_imputer.fit_transform(X)\n",
    "    new_errors=silent_get_imputer_errors(X_knn)\n",
    "    new_errors.name=str(n)+'nn Imputer'\n",
    "    knn_errors=pd.concat([knn_errors,new_errors],axis=1)\n",
    "\n",
    "knn_errors\n",
    "    "
   ]
  },
  {
   "cell_type": "code",
   "execution_count": null,
   "metadata": {},
   "outputs": [],
   "source": [
    "knn_errors=pd.DataFrame()\n",
    "for n in range(2,100,10):   \n",
    "    knn_imputer=KNNImputer(n_neighbors=n)\n",
    "    X_knn=knn_imputer.fit_transform(X)\n",
    "    new_errors=silent_get_imputer_errors(X_knn)\n",
    "    new_errors.name=str(n)+'nn Imputer'\n",
    "    knn_errors=pd.concat([knn_errors,new_errors],axis=1)\n",
    "\n",
    "knn_errors"
   ]
  },
  {
   "cell_type": "code",
   "execution_count": null,
   "metadata": {},
   "outputs": [],
   "source": [
    "knn_errors=pd.DataFrame()\n",
    "for n in range(2,20,2):   \n",
    "    knn_imputer=KNNImputer(n_neighbors=n)\n",
    "    X_knn=knn_imputer.fit_transform(X)\n",
    "    new_errors=silent_get_imputer_errors(X_knn)\n",
    "    new_errors.name=str(n)+'nn Imputer'\n",
    "    knn_errors=pd.concat([knn_errors,new_errors],axis=1)\n",
    "\n",
    "knn_errors.round(2)"
   ]
  },
  {
   "cell_type": "code",
   "execution_count": null,
   "metadata": {},
   "outputs": [],
   "source": [
    "fig=px.line(data_frame=knn_errors.reset_index().melt(id_vars='index'),x='index',y='value',color='variable')\n",
    "fig.update_yaxes(type='log')\n",
    "fig.show()"
   ]
  },
  {
   "cell_type": "code",
   "execution_count": null,
   "metadata": {},
   "outputs": [],
   "source": [
    "imp_errors=pd.concat([imp_errors,knn_errors['6nn Imputer']],axis=1)\n",
    "imp_errors"
   ]
  },
  {
   "cell_type": "code",
   "execution_count": null,
   "metadata": {},
   "outputs": [],
   "source": [
    "sns.lineplot(data=imp_errors.reset_index().melt(id_vars='index'),x='index',y='value',hue='variable')\n",
    "plt.yscale('log')\n",
    "plt.xticks(rotation=90,size=8)\n",
    "plt.xlabel('Variables')\n",
    "plt.ylabel('MSE (log scale)')\n",
    "plt.title('Mean squared error of imputation by variable')\n",
    "plt.show()"
   ]
  },
  {
   "attachments": {},
   "cell_type": "markdown",
   "metadata": {},
   "source": [
    "L'affinage des paramètres de Knn n'a pas permis de dimuner l'erreur suffisament pour être compétitif avec IterativeImputer (RandomForest). Il pourra être utilisé dans le cas où la contrainte sur le temps de calcul est plus importante que l'erreur engendrée."
   ]
  },
  {
   "attachments": {},
   "cell_type": "markdown",
   "metadata": {},
   "source": [
    "#### Vérification de la performance sans les données de nutriscore"
   ]
  },
  {
   "cell_type": "code",
   "execution_count": null,
   "metadata": {},
   "outputs": [],
   "source": [
    "complete=filtered_df.iloc[:,5:-2].dropna(axis=0)\n",
    "columns=complete.columns\n",
    "index=complete.index\n",
    "\n",
    "X=complete.copy()\n",
    "index_rows=np.random.randint(0,complete.shape[0],size=5000)\n",
    "index_cols=np.random.randint(0,complete.shape[1],size=5000)\n",
    "for i,j in zip (index_rows,index_cols):\n",
    "   X.iloc[i,j]=np.nan\n",
    "\n",
    "msno.matrix(X)"
   ]
  },
  {
   "cell_type": "code",
   "execution_count": null,
   "metadata": {},
   "outputs": [],
   "source": [
    "X_iter_bayridge=iterative_bayridge_imp.fit_transform(X)\n",
    "iter_bayridge_errors=get_imputer_errors(X_iter_bayridge)"
   ]
  },
  {
   "cell_type": "code",
   "execution_count": null,
   "metadata": {},
   "outputs": [],
   "source": [
    "X_iter_forest=iterative_forest_imp.fit_transform(X)\n",
    "iter_forest_errors=get_imputer_errors(X_iter_forest)"
   ]
  },
  {
   "cell_type": "code",
   "execution_count": null,
   "metadata": {},
   "outputs": [],
   "source": [
    "knn_imputer=KNNImputer(n_neighbors=6)\n",
    "X_knn=knn_imputer.fit_transform(X)\n",
    "knn_errors=get_imputer_errors(X_knn)"
   ]
  },
  {
   "cell_type": "code",
   "execution_count": null,
   "metadata": {},
   "outputs": [],
   "source": [
    "imp_errors=pd.DataFrame({'IterativeImputer : BayesianRidge':iter_bayridge_errors,\n",
    "                         'IterativeImputer : RandomForest' :iter_forest_errors,\n",
    "                         'Knn Imputer : 6 neighbors' : knn_errors,                      \n",
    "                         })\n",
    "\n",
    "sns.lineplot(data=imp_errors.reset_index().melt(id_vars='index'),x='index',y='value',hue='variable')\n",
    "plt.yscale('log')\n",
    "plt.xticks(rotation=90,size=8)\n",
    "plt.xlabel('Variables')\n",
    "plt.ylabel('MSE (log scale)')\n",
    "plt.title('Mean squared error of imputation by variable')\n",
    "plt.show()"
   ]
  },
  {
   "attachments": {},
   "cell_type": "markdown",
   "metadata": {},
   "source": [
    "IterativeImputer avec RandomForest donne également les meilleurs résultats dans le cas où les nutriscores ne sont pas disponibles."
   ]
  },
  {
   "attachments": {},
   "cell_type": "markdown",
   "metadata": {},
   "source": [
    "#### Imputation des données dans le dataset initial avec IterativeImputer"
   ]
  },
  {
   "cell_type": "code",
   "execution_count": 10,
   "metadata": {},
   "outputs": [],
   "source": [
    "def impute (df):\n",
    "    print('Imputation des données manquantes :')\n",
    "    filter_num=['_100g' in str(col) for col in df.columns]\n",
    "    num_imputer = IterativeImputer(estimator=RandomForestRegressor(),n_nearest_features=5,tol=1)\n",
    "    num_cols=df.iloc[:,filter_num].columns\n",
    "    \n",
    "    cat_imputer=SimpleImputer(strategy='constant',fill_value='unknown')\n",
    "    cat_cols=df.iloc[:,~np.array(filter_num)].columns\n",
    "    \n",
    "    preprocessor = ColumnTransformer(\n",
    "    transformers=[\n",
    "        ('cat', cat_imputer, cat_cols),\n",
    "        ('num', num_imputer, num_cols),\n",
    "    ])\n",
    "    \n",
    "    imputed_df=preprocessor.fit_transform(df)\n",
    "    \n",
    "    #Post_imputer formating :  \n",
    "    imputed_df=pd.DataFrame(imputed_df)\n",
    "    imputed_df.index=df.index\n",
    "    imputed_df.columns=df.columns\n",
    "    imputed_df = imputed_df.astype({col:float for col in imputed_df.loc[:,filter_num].columns})\n",
    "    \n",
    "    #Display distributions\n",
    "    fig,axes=plt.subplots(-(-len(df.loc[:,filter_num].columns)//3),3,figsize=(15, 15))\n",
    "    fig.tight_layout(pad=4.0)\n",
    "    for col,ax in zip(df.loc[:,filter_num].columns,axes.ravel()):\n",
    "        sns.histplot(df[col],ax=ax,alpha=0.5)\n",
    "        sns.histplot(imputed_df[col],ax=ax,alpha=0.2)\n",
    "    ax.set_yscale(\"log\")\n",
    "    plt.suptitle('Distributions des variables numériques avant et après imputation')\n",
    "    plt.show()\n",
    "    \n",
    "    return imputed_df\n",
    "    "
   ]
  },
  {
   "cell_type": "code",
   "execution_count": null,
   "metadata": {},
   "outputs": [],
   "source": [
    "imputed_df=impute(filtered_df)"
   ]
  },
  {
   "cell_type": "code",
   "execution_count": null,
   "metadata": {},
   "outputs": [],
   "source": [
    "display(filtered_df.describe().round(2))\n",
    "display(imputed_df.loc[:,filter_num].astype('float64').describe().round(2))"
   ]
  },
  {
   "attachments": {},
   "cell_type": "markdown",
   "metadata": {},
   "source": [
    "### Création d'une pipeline pour application à un futur dataset"
   ]
  },
  {
   "attachments": {},
   "cell_type": "markdown",
   "metadata": {},
   "source": [
    "#### Création de 'transformers' à partir des des fonctions"
   ]
  },
  {
   "cell_type": "code",
   "execution_count": 22,
   "metadata": {},
   "outputs": [],
   "source": [
    "filter_df_tf = FunctionTransformer(filter_df)\n",
    "drop_empty_tf= FunctionTransformer(drop_empty)\n",
    "drop_outofbounds_tf= FunctionTransformer(drop_outofbounds)\n",
    "correct_sodium_tf= FunctionTransformer(correct_sodium_unit)\n",
    "drop_sugar_tf=FunctionTransformer(drop_sugar_anomalies)\n",
    "drop_fat_tf= FunctionTransformer(drop_fat_anomalies)\n",
    "replace_labels_tf= FunctionTransformer(replace_labels)\n",
    "impute_tf=FunctionTransformer(impute)"
   ]
  },
  {
   "cell_type": "code",
   "execution_count": 12,
   "metadata": {},
   "outputs": [
    {
     "name": "stderr",
     "output_type": "stream",
     "text": [
      "C:\\Users\\blanc\\AppData\\Local\\Temp\\ipykernel_4828\\2999557393.py:2: DtypeWarning: Columns (0,3,5,19,20,24,25,26,27,28,35,36,37,38,39,48) have mixed types. Specify dtype option on import or set low_memory=False.\n",
      "  data=pd.read_csv(\"data\\products.csv\",sep='\t')\n"
     ]
    }
   ],
   "source": [
    "#Réinitialisation du dataframe initial\n",
    "data=pd.read_csv(\"data\\products.csv\",sep='\t')"
   ]
  },
  {
   "attachments": {},
   "cell_type": "markdown",
   "metadata": {},
   "source": [
    "#### Création du pipeline"
   ]
  },
  {
   "cell_type": "code",
   "execution_count": 23,
   "metadata": {},
   "outputs": [],
   "source": [
    "pipeline=Pipeline(steps=[\n",
    "    ('Filter data',filter_df_tf),\n",
    "    ('Drop empty',drop_empty_tf),\n",
    "    ('Drop outliers',drop_outofbounds_tf),\n",
    "    ('Correct sodium unit',correct_sodium_tf),\n",
    "    ('Drop sugar anomalies',drop_sugar_tf),\n",
    "    ('Drop fat anomalies',drop_fat_tf),\n",
    "    ('Replace cat labels',replace_labels_tf),\n",
    "    ('Imputer',impute_tf),\n",
    "    ('estimator',None)\n",
    "])\n"
   ]
  },
  {
   "cell_type": "code",
   "execution_count": 24,
   "metadata": {},
   "outputs": [
    {
     "name": "stdout",
     "output_type": "stream",
     "text": [
      "Séléction des données pour la France et filtrage des colonnes\n",
      "Nombre de lignes et colonnes initial : (320772, 162)\n",
      "Nombre de lignes et colonnes final (98440, 104)\n",
      "Suppression des lignes sans nom de produit, avec moins de 50% de données numériques ou dupliquées et supprésion des colonnes vides (>25% nans)\n",
      "Nombre de lignes et colonnes initial : (98440, 104)\n",
      "Nombre de lignes et colonnes final (62347, 16)\n",
      "Vérification des sous indicateurs de nutri-score : Trop de valeurs manquantes pour la colonne  fruits-vegetables-nuts_100g  : colonne supprimée.\n"
     ]
    },
    {
     "data": {
      "image/png": "[encoded data removed]",
      "text/plain": [
       "<Figure size 2500x1000 with 3 Axes>"
      ]
     },
     "metadata": {},
     "output_type": "display_data"
    },
    {
     "name": "stdout",
     "output_type": "stream",
     "text": [
      "Verification des dépassements des limites de concentration pour 100g\n",
      "Calories : Valeurs hors limites :  90  lignes supprimées\n"
     ]
    },
    {
     "data": {
      "text/html": [
       "<div>\n",
       "<style scoped>\n",
       "    .dataframe tbody tr th:only-of-type {\n",
       "        vertical-align: middle;\n",
       "    }\n",
       "\n",
       "    .dataframe tbody tr th {\n",
       "        vertical-align: top;\n",
       "    }\n",
       "\n",
       "    .dataframe thead th {\n",
       "        text-align: right;\n",
       "    }\n",
       "</style>\n",
       "<table border=\"1\" class=\"dataframe\">\n",
       "  <thead>\n",
       "    <tr style=\"text-align: right;\">\n",
       "      <th></th>\n",
       "      <th>code</th>\n",
       "      <th>countries_fr</th>\n",
       "      <th>last_modified_datetime</th>\n",
       "      <th>product_name</th>\n",
       "      <th>pnns_groups_1</th>\n",
       "      <th>energy_100g</th>\n",
       "      <th>fat_100g</th>\n",
       "      <th>saturated-fat_100g</th>\n",
       "      <th>carbohydrates_100g</th>\n",
       "      <th>sugars_100g</th>\n",
       "      <th>fiber_100g</th>\n",
       "      <th>proteins_100g</th>\n",
       "      <th>salt_100g</th>\n",
       "      <th>sodium_100g</th>\n",
       "      <th>nutrition-score-fr_100g</th>\n",
       "      <th>nutrition-score-uk_100g</th>\n",
       "    </tr>\n",
       "  </thead>\n",
       "  <tbody>\n",
       "    <tr>\n",
       "      <th>56561</th>\n",
       "      <td>43647390011</td>\n",
       "      <td>France</td>\n",
       "      <td>2017-03-10T20:31:25Z</td>\n",
       "      <td>Tawny' Orange</td>\n",
       "      <td>NaN</td>\n",
       "      <td>5054.0</td>\n",
       "      <td>NaN</td>\n",
       "      <td>0.00</td>\n",
       "      <td>NaN</td>\n",
       "      <td>65.0</td>\n",
       "      <td>0.0</td>\n",
       "      <td>0.0</td>\n",
       "      <td>0.00</td>\n",
       "      <td>0.000000</td>\n",
       "      <td>20.0</td>\n",
       "      <td>20.0</td>\n",
       "    </tr>\n",
       "    <tr>\n",
       "      <th>161426</th>\n",
       "      <td>853807005163</td>\n",
       "      <td>France</td>\n",
       "      <td>2017-03-02T13:39:19Z</td>\n",
       "      <td>Huile d'avocat</td>\n",
       "      <td>NaN</td>\n",
       "      <td>3883.0</td>\n",
       "      <td>NaN</td>\n",
       "      <td>15.00</td>\n",
       "      <td>NaN</td>\n",
       "      <td>0.0</td>\n",
       "      <td>0.0</td>\n",
       "      <td>0.0</td>\n",
       "      <td>0.00</td>\n",
       "      <td>0.000000</td>\n",
       "      <td>20.0</td>\n",
       "      <td>20.0</td>\n",
       "    </tr>\n",
       "    <tr>\n",
       "      <th>178567</th>\n",
       "      <td>20193447</td>\n",
       "      <td>France</td>\n",
       "      <td>2017-04-08T18:48:53Z</td>\n",
       "      <td>Confiserie Firenze Apfel Streuselkuchen Tiefge...</td>\n",
       "      <td>NaN</td>\n",
       "      <td>4197.0</td>\n",
       "      <td>NaN</td>\n",
       "      <td>3.90</td>\n",
       "      <td>NaN</td>\n",
       "      <td>18.5</td>\n",
       "      <td>0.0</td>\n",
       "      <td>2.9</td>\n",
       "      <td>0.11</td>\n",
       "      <td>0.043307</td>\n",
       "      <td>17.0</td>\n",
       "      <td>17.0</td>\n",
       "    </tr>\n",
       "    <tr>\n",
       "      <th>178787</th>\n",
       "      <td>20233679</td>\n",
       "      <td>France</td>\n",
       "      <td>2017-04-20T07:42:28Z</td>\n",
       "      <td>Halva with Almonds</td>\n",
       "      <td>Sugary snacks</td>\n",
       "      <td>9983.0</td>\n",
       "      <td>36.8</td>\n",
       "      <td>7.80</td>\n",
       "      <td>44.2</td>\n",
       "      <td>32.0</td>\n",
       "      <td>NaN</td>\n",
       "      <td>12.9</td>\n",
       "      <td>0.00</td>\n",
       "      <td>0.000000</td>\n",
       "      <td>24.0</td>\n",
       "      <td>24.0</td>\n",
       "    </tr>\n",
       "    <tr>\n",
       "      <th>179179</th>\n",
       "      <td>2030502431284</td>\n",
       "      <td>France</td>\n",
       "      <td>2017-02-19T13:55:36Z</td>\n",
       "      <td>Lot De 4 Baguettes</td>\n",
       "      <td>NaN</td>\n",
       "      <td>4184.0</td>\n",
       "      <td>NaN</td>\n",
       "      <td>0.00</td>\n",
       "      <td>NaN</td>\n",
       "      <td>0.0</td>\n",
       "      <td>0.0</td>\n",
       "      <td>0.0</td>\n",
       "      <td>0.00</td>\n",
       "      <td>0.000000</td>\n",
       "      <td>10.0</td>\n",
       "      <td>10.0</td>\n",
       "    </tr>\n",
       "    <tr>\n",
       "      <th>...</th>\n",
       "      <td>...</td>\n",
       "      <td>...</td>\n",
       "      <td>...</td>\n",
       "      <td>...</td>\n",
       "      <td>...</td>\n",
       "      <td>...</td>\n",
       "      <td>...</td>\n",
       "      <td>...</td>\n",
       "      <td>...</td>\n",
       "      <td>...</td>\n",
       "      <td>...</td>\n",
       "      <td>...</td>\n",
       "      <td>...</td>\n",
       "      <td>...</td>\n",
       "      <td>...</td>\n",
       "      <td>...</td>\n",
       "    </tr>\n",
       "    <tr>\n",
       "      <th>304297</th>\n",
       "      <td>8016857024016</td>\n",
       "      <td>France</td>\n",
       "      <td>2017-02-23T11:28:53Z</td>\n",
       "      <td>Gnocchi E Pasta Fresca</td>\n",
       "      <td>NaN</td>\n",
       "      <td>4828.0</td>\n",
       "      <td>NaN</td>\n",
       "      <td>3.52</td>\n",
       "      <td>NaN</td>\n",
       "      <td>1.9</td>\n",
       "      <td>2.3</td>\n",
       "      <td>9.8</td>\n",
       "      <td>1.12</td>\n",
       "      <td>0.440945</td>\n",
       "      <td>14.0</td>\n",
       "      <td>14.0</td>\n",
       "    </tr>\n",
       "    <tr>\n",
       "      <th>305223</th>\n",
       "      <td>8034063244592</td>\n",
       "      <td>France</td>\n",
       "      <td>2017-02-25T14:49:11Z</td>\n",
       "      <td>Miel D'eucalyptus</td>\n",
       "      <td>NaN</td>\n",
       "      <td>5749.0</td>\n",
       "      <td>NaN</td>\n",
       "      <td>0.00</td>\n",
       "      <td>NaN</td>\n",
       "      <td>80.0</td>\n",
       "      <td>0.0</td>\n",
       "      <td>0.4</td>\n",
       "      <td>0.01</td>\n",
       "      <td>0.003937</td>\n",
       "      <td>20.0</td>\n",
       "      <td>20.0</td>\n",
       "    </tr>\n",
       "    <tr>\n",
       "      <th>313852</th>\n",
       "      <td>8711200595631</td>\n",
       "      <td>France</td>\n",
       "      <td>2017-04-20T17:51:02Z</td>\n",
       "      <td>Cornetto Mini X8 Fruit</td>\n",
       "      <td>NaN</td>\n",
       "      <td>5644.0</td>\n",
       "      <td>NaN</td>\n",
       "      <td>13.00</td>\n",
       "      <td>NaN</td>\n",
       "      <td>24.0</td>\n",
       "      <td>0.0</td>\n",
       "      <td>3.7</td>\n",
       "      <td>0.12</td>\n",
       "      <td>0.047244</td>\n",
       "      <td>25.0</td>\n",
       "      <td>25.0</td>\n",
       "    </tr>\n",
       "    <tr>\n",
       "      <th>319695</th>\n",
       "      <td>9310804500189</td>\n",
       "      <td>France</td>\n",
       "      <td>2017-03-15T10:39:08Z</td>\n",
       "      <td>Miel</td>\n",
       "      <td>NaN</td>\n",
       "      <td>5925.0</td>\n",
       "      <td>NaN</td>\n",
       "      <td>0.00</td>\n",
       "      <td>NaN</td>\n",
       "      <td>82.0</td>\n",
       "      <td>0.0</td>\n",
       "      <td>0.0</td>\n",
       "      <td>0.00</td>\n",
       "      <td>0.000000</td>\n",
       "      <td>20.0</td>\n",
       "      <td>20.0</td>\n",
       "    </tr>\n",
       "    <tr>\n",
       "      <th>320561</th>\n",
       "      <td>9556001171337</td>\n",
       "      <td>France</td>\n",
       "      <td>2017-04-06T05:05:27Z</td>\n",
       "      <td>Chicken Cup Of Noodles</td>\n",
       "      <td>NaN</td>\n",
       "      <td>4602.0</td>\n",
       "      <td>NaN</td>\n",
       "      <td>4.70</td>\n",
       "      <td>NaN</td>\n",
       "      <td>4.0</td>\n",
       "      <td>0.0</td>\n",
       "      <td>9.7</td>\n",
       "      <td>0.00</td>\n",
       "      <td>0.000000</td>\n",
       "      <td>14.0</td>\n",
       "      <td>14.0</td>\n",
       "    </tr>\n",
       "  </tbody>\n",
       "</table>\n",
       "<p>90 rows × 16 columns</p>\n",
       "</div>"
      ],
      "text/plain": [
       "                 code countries_fr last_modified_datetime  \\\n",
       "56561     43647390011       France   2017-03-10T20:31:25Z   \n",
       "161426   853807005163       France   2017-03-02T13:39:19Z   \n",
       "178567       20193447       France   2017-04-08T18:48:53Z   \n",
       "178787       20233679       France   2017-04-20T07:42:28Z   \n",
       "179179  2030502431284       France   2017-02-19T13:55:36Z   \n",
       "...               ...          ...                    ...   \n",
       "304297  8016857024016       France   2017-02-23T11:28:53Z   \n",
       "305223  8034063244592       France   2017-02-25T14:49:11Z   \n",
       "313852  8711200595631       France   2017-04-20T17:51:02Z   \n",
       "319695  9310804500189       France   2017-03-15T10:39:08Z   \n",
       "320561  9556001171337       France   2017-04-06T05:05:27Z   \n",
       "\n",
       "                                             product_name  pnns_groups_1  \\\n",
       "56561                                       Tawny' Orange            NaN   \n",
       "161426                                     Huile d'avocat            NaN   \n",
       "178567  Confiserie Firenze Apfel Streuselkuchen Tiefge...            NaN   \n",
       "178787                                 Halva with Almonds  Sugary snacks   \n",
       "179179                                 Lot De 4 Baguettes            NaN   \n",
       "...                                                   ...            ...   \n",
       "304297                             Gnocchi E Pasta Fresca            NaN   \n",
       "305223                                  Miel D'eucalyptus            NaN   \n",
       "313852                             Cornetto Mini X8 Fruit            NaN   \n",
       "319695                                               Miel            NaN   \n",
       "320561                             Chicken Cup Of Noodles            NaN   \n",
       "\n",
       "        energy_100g  fat_100g  saturated-fat_100g  carbohydrates_100g  \\\n",
       "56561        5054.0       NaN                0.00                 NaN   \n",
       "161426       3883.0       NaN               15.00                 NaN   \n",
       "178567       4197.0       NaN                3.90                 NaN   \n",
       "178787       9983.0      36.8                7.80                44.2   \n",
       "179179       4184.0       NaN                0.00                 NaN   \n",
       "...             ...       ...                 ...                 ...   \n",
       "304297       4828.0       NaN                3.52                 NaN   \n",
       "305223       5749.0       NaN                0.00                 NaN   \n",
       "313852       5644.0       NaN               13.00                 NaN   \n",
       "319695       5925.0       NaN                0.00                 NaN   \n",
       "320561       4602.0       NaN                4.70                 NaN   \n",
       "\n",
       "        sugars_100g  fiber_100g  proteins_100g  salt_100g  sodium_100g  \\\n",
       "56561          65.0         0.0            0.0       0.00     0.000000   \n",
       "161426          0.0         0.0            0.0       0.00     0.000000   \n",
       "178567         18.5         0.0            2.9       0.11     0.043307   \n",
       "178787         32.0         NaN           12.9       0.00     0.000000   \n",
       "179179          0.0         0.0            0.0       0.00     0.000000   \n",
       "...             ...         ...            ...        ...          ...   \n",
       "304297          1.9         2.3            9.8       1.12     0.440945   \n",
       "305223         80.0         0.0            0.4       0.01     0.003937   \n",
       "313852         24.0         0.0            3.7       0.12     0.047244   \n",
       "319695         82.0         0.0            0.0       0.00     0.000000   \n",
       "320561          4.0         0.0            9.7       0.00     0.000000   \n",
       "\n",
       "        nutrition-score-fr_100g  nutrition-score-uk_100g  \n",
       "56561                      20.0                     20.0  \n",
       "161426                     20.0                     20.0  \n",
       "178567                     17.0                     17.0  \n",
       "178787                     24.0                     24.0  \n",
       "179179                     10.0                     10.0  \n",
       "...                         ...                      ...  \n",
       "304297                     14.0                     14.0  \n",
       "305223                     20.0                     20.0  \n",
       "313852                     25.0                     25.0  \n",
       "319695                     20.0                     20.0  \n",
       "320561                     14.0                     14.0  \n",
       "\n",
       "[90 rows x 16 columns]"
      ]
     },
     "metadata": {},
     "output_type": "display_data"
    },
    {
     "name": "stdout",
     "output_type": "stream",
     "text": [
      "fat_100g : Valeurs hors limites :  1  lignes supprimées\n"
     ]
    },
    {
     "data": {
      "text/html": [
       "<div>\n",
       "<style scoped>\n",
       "    .dataframe tbody tr th:only-of-type {\n",
       "        vertical-align: middle;\n",
       "    }\n",
       "\n",
       "    .dataframe tbody tr th {\n",
       "        vertical-align: top;\n",
       "    }\n",
       "\n",
       "    .dataframe thead th {\n",
       "        text-align: right;\n",
       "    }\n",
       "</style>\n",
       "<table border=\"1\" class=\"dataframe\">\n",
       "  <thead>\n",
       "    <tr style=\"text-align: right;\">\n",
       "      <th></th>\n",
       "      <th>code</th>\n",
       "      <th>countries_fr</th>\n",
       "      <th>last_modified_datetime</th>\n",
       "      <th>product_name</th>\n",
       "      <th>pnns_groups_1</th>\n",
       "      <th>energy_100g</th>\n",
       "      <th>fat_100g</th>\n",
       "      <th>saturated-fat_100g</th>\n",
       "      <th>carbohydrates_100g</th>\n",
       "      <th>sugars_100g</th>\n",
       "      <th>fiber_100g</th>\n",
       "      <th>proteins_100g</th>\n",
       "      <th>salt_100g</th>\n",
       "      <th>sodium_100g</th>\n",
       "      <th>nutrition-score-fr_100g</th>\n",
       "      <th>nutrition-score-uk_100g</th>\n",
       "    </tr>\n",
       "  </thead>\n",
       "  <tbody>\n",
       "    <tr>\n",
       "      <th>305054</th>\n",
       "      <td>8032942610032</td>\n",
       "      <td>France</td>\n",
       "      <td>2017-03-17T14:09:22Z</td>\n",
       "      <td>Graine de couscous moyen</td>\n",
       "      <td>Cereals and potatoes</td>\n",
       "      <td>1482.0</td>\n",
       "      <td>105.0</td>\n",
       "      <td>0.3</td>\n",
       "      <td>70.0</td>\n",
       "      <td>2.5</td>\n",
       "      <td>NaN</td>\n",
       "      <td>12.0</td>\n",
       "      <td>0.01</td>\n",
       "      <td>0.003937</td>\n",
       "      <td>-1.0</td>\n",
       "      <td>-1.0</td>\n",
       "    </tr>\n",
       "  </tbody>\n",
       "</table>\n",
       "</div>"
      ],
      "text/plain": [
       "                 code countries_fr last_modified_datetime  \\\n",
       "305054  8032942610032       France   2017-03-17T14:09:22Z   \n",
       "\n",
       "                    product_name         pnns_groups_1  energy_100g  fat_100g  \\\n",
       "305054  Graine de couscous moyen  Cereals and potatoes       1482.0     105.0   \n",
       "\n",
       "        saturated-fat_100g  carbohydrates_100g  sugars_100g  fiber_100g  \\\n",
       "305054                 0.3                70.0          2.5         NaN   \n",
       "\n",
       "        proteins_100g  salt_100g  sodium_100g  nutrition-score-fr_100g  \\\n",
       "305054           12.0       0.01     0.003937                     -1.0   \n",
       "\n",
       "        nutrition-score-uk_100g  \n",
       "305054                     -1.0  "
      ]
     },
     "metadata": {},
     "output_type": "display_data"
    },
    {
     "name": "stdout",
     "output_type": "stream",
     "text": [
      "carbohydrates_100g : Valeurs hors limites :  4  lignes supprimées\n"
     ]
    },
    {
     "data": {
      "text/html": [
       "<div>\n",
       "<style scoped>\n",
       "    .dataframe tbody tr th:only-of-type {\n",
       "        vertical-align: middle;\n",
       "    }\n",
       "\n",
       "    .dataframe tbody tr th {\n",
       "        vertical-align: top;\n",
       "    }\n",
       "\n",
       "    .dataframe thead th {\n",
       "        text-align: right;\n",
       "    }\n",
       "</style>\n",
       "<table border=\"1\" class=\"dataframe\">\n",
       "  <thead>\n",
       "    <tr style=\"text-align: right;\">\n",
       "      <th></th>\n",
       "      <th>code</th>\n",
       "      <th>countries_fr</th>\n",
       "      <th>last_modified_datetime</th>\n",
       "      <th>product_name</th>\n",
       "      <th>pnns_groups_1</th>\n",
       "      <th>energy_100g</th>\n",
       "      <th>fat_100g</th>\n",
       "      <th>saturated-fat_100g</th>\n",
       "      <th>carbohydrates_100g</th>\n",
       "      <th>sugars_100g</th>\n",
       "      <th>fiber_100g</th>\n",
       "      <th>proteins_100g</th>\n",
       "      <th>salt_100g</th>\n",
       "      <th>sodium_100g</th>\n",
       "      <th>nutrition-score-fr_100g</th>\n",
       "      <th>nutrition-score-uk_100g</th>\n",
       "    </tr>\n",
       "  </thead>\n",
       "  <tbody>\n",
       "    <tr>\n",
       "      <th>155609</th>\n",
       "      <td>838619000254</td>\n",
       "      <td>France</td>\n",
       "      <td>2017-02-14T14:27:14Z</td>\n",
       "      <td>Beurre d'érable</td>\n",
       "      <td>unknown</td>\n",
       "      <td>1390.0</td>\n",
       "      <td>0.0</td>\n",
       "      <td>0.0</td>\n",
       "      <td>164.0</td>\n",
       "      <td>72.7</td>\n",
       "      <td>NaN</td>\n",
       "      <td>0.0</td>\n",
       "      <td>NaN</td>\n",
       "      <td>NaN</td>\n",
       "      <td>NaN</td>\n",
       "      <td>NaN</td>\n",
       "    </tr>\n",
       "    <tr>\n",
       "      <th>202571</th>\n",
       "      <td>3229820787909</td>\n",
       "      <td>France</td>\n",
       "      <td>2015-04-07T17:17:55Z</td>\n",
       "      <td>Sirop d'Agave brun bio</td>\n",
       "      <td>unknown</td>\n",
       "      <td>1760.0</td>\n",
       "      <td>0.0</td>\n",
       "      <td>0.0</td>\n",
       "      <td>104.0</td>\n",
       "      <td>104.0</td>\n",
       "      <td>0.0</td>\n",
       "      <td>0.0</td>\n",
       "      <td>0.14</td>\n",
       "      <td>0.05510</td>\n",
       "      <td>15.0</td>\n",
       "      <td>15.0</td>\n",
       "    </tr>\n",
       "    <tr>\n",
       "      <th>260599</th>\n",
       "      <td>4016249015732</td>\n",
       "      <td>France</td>\n",
       "      <td>2016-11-26T09:38:10Z</td>\n",
       "      <td>Sirop d agave pur</td>\n",
       "      <td>unknown</td>\n",
       "      <td>1760.0</td>\n",
       "      <td>1.0</td>\n",
       "      <td>0.1</td>\n",
       "      <td>103.5</td>\n",
       "      <td>103.5</td>\n",
       "      <td>NaN</td>\n",
       "      <td>1.0</td>\n",
       "      <td>0.10</td>\n",
       "      <td>0.03937</td>\n",
       "      <td>15.0</td>\n",
       "      <td>15.0</td>\n",
       "    </tr>\n",
       "    <tr>\n",
       "      <th>317635</th>\n",
       "      <td>8935000901649</td>\n",
       "      <td>France</td>\n",
       "      <td>2017-03-08T21:19:58Z</td>\n",
       "      <td>Banane sèche</td>\n",
       "      <td>Fruits and vegetables</td>\n",
       "      <td>1259.0</td>\n",
       "      <td>0.0</td>\n",
       "      <td>0.0</td>\n",
       "      <td>139.0</td>\n",
       "      <td>41.5</td>\n",
       "      <td>0.0</td>\n",
       "      <td>5.0</td>\n",
       "      <td>0.00</td>\n",
       "      <td>0.00000</td>\n",
       "      <td>4.0</td>\n",
       "      <td>4.0</td>\n",
       "    </tr>\n",
       "  </tbody>\n",
       "</table>\n",
       "</div>"
      ],
      "text/plain": [
       "                 code countries_fr last_modified_datetime  \\\n",
       "155609   838619000254       France   2017-02-14T14:27:14Z   \n",
       "202571  3229820787909       France   2015-04-07T17:17:55Z   \n",
       "260599  4016249015732       France   2016-11-26T09:38:10Z   \n",
       "317635  8935000901649       France   2017-03-08T21:19:58Z   \n",
       "\n",
       "                  product_name          pnns_groups_1  energy_100g  fat_100g  \\\n",
       "155609         Beurre d'érable                unknown       1390.0       0.0   \n",
       "202571  Sirop d'Agave brun bio                unknown       1760.0       0.0   \n",
       "260599       Sirop d agave pur                unknown       1760.0       1.0   \n",
       "317635            Banane sèche  Fruits and vegetables       1259.0       0.0   \n",
       "\n",
       "        saturated-fat_100g  carbohydrates_100g  sugars_100g  fiber_100g  \\\n",
       "155609                 0.0               164.0         72.7         NaN   \n",
       "202571                 0.0               104.0        104.0         0.0   \n",
       "260599                 0.1               103.5        103.5         NaN   \n",
       "317635                 0.0               139.0         41.5         0.0   \n",
       "\n",
       "        proteins_100g  salt_100g  sodium_100g  nutrition-score-fr_100g  \\\n",
       "155609            0.0        NaN          NaN                      NaN   \n",
       "202571            0.0       0.14      0.05510                     15.0   \n",
       "260599            1.0       0.10      0.03937                     15.0   \n",
       "317635            5.0       0.00      0.00000                      4.0   \n",
       "\n",
       "        nutrition-score-uk_100g  \n",
       "155609                      NaN  \n",
       "202571                     15.0  \n",
       "260599                     15.0  \n",
       "317635                      4.0  "
      ]
     },
     "metadata": {},
     "output_type": "display_data"
    },
    {
     "name": "stdout",
     "output_type": "stream",
     "text": [
      "sugars_100g : Valeurs hors limites :  1  lignes supprimées\n"
     ]
    },
    {
     "data": {
      "text/html": [
       "<div>\n",
       "<style scoped>\n",
       "    .dataframe tbody tr th:only-of-type {\n",
       "        vertical-align: middle;\n",
       "    }\n",
       "\n",
       "    .dataframe tbody tr th {\n",
       "        vertical-align: top;\n",
       "    }\n",
       "\n",
       "    .dataframe thead th {\n",
       "        text-align: right;\n",
       "    }\n",
       "</style>\n",
       "<table border=\"1\" class=\"dataframe\">\n",
       "  <thead>\n",
       "    <tr style=\"text-align: right;\">\n",
       "      <th></th>\n",
       "      <th>code</th>\n",
       "      <th>countries_fr</th>\n",
       "      <th>last_modified_datetime</th>\n",
       "      <th>product_name</th>\n",
       "      <th>pnns_groups_1</th>\n",
       "      <th>energy_100g</th>\n",
       "      <th>fat_100g</th>\n",
       "      <th>saturated-fat_100g</th>\n",
       "      <th>carbohydrates_100g</th>\n",
       "      <th>sugars_100g</th>\n",
       "      <th>fiber_100g</th>\n",
       "      <th>proteins_100g</th>\n",
       "      <th>salt_100g</th>\n",
       "      <th>sodium_100g</th>\n",
       "      <th>nutrition-score-fr_100g</th>\n",
       "      <th>nutrition-score-uk_100g</th>\n",
       "    </tr>\n",
       "  </thead>\n",
       "  <tbody>\n",
       "    <tr>\n",
       "      <th>195761</th>\n",
       "      <td>3161712000928</td>\n",
       "      <td>France</td>\n",
       "      <td>2016-06-11T15:40:10Z</td>\n",
       "      <td>Caprice des dieux</td>\n",
       "      <td>Milk and dairy products</td>\n",
       "      <td>1379.0</td>\n",
       "      <td>30.0</td>\n",
       "      <td>21.0</td>\n",
       "      <td>0.8</td>\n",
       "      <td>-0.1</td>\n",
       "      <td>NaN</td>\n",
       "      <td>15.3</td>\n",
       "      <td>1.4</td>\n",
       "      <td>0.551181</td>\n",
       "      <td>15.0</td>\n",
       "      <td>20.0</td>\n",
       "    </tr>\n",
       "  </tbody>\n",
       "</table>\n",
       "</div>"
      ],
      "text/plain": [
       "                 code countries_fr last_modified_datetime       product_name  \\\n",
       "195761  3161712000928       France   2016-06-11T15:40:10Z  Caprice des dieux   \n",
       "\n",
       "                  pnns_groups_1  energy_100g  fat_100g  saturated-fat_100g  \\\n",
       "195761  Milk and dairy products       1379.0      30.0                21.0   \n",
       "\n",
       "        carbohydrates_100g  sugars_100g  fiber_100g  proteins_100g  salt_100g  \\\n",
       "195761                 0.8         -0.1         NaN           15.3        1.4   \n",
       "\n",
       "        sodium_100g  nutrition-score-fr_100g  nutrition-score-uk_100g  \n",
       "195761     0.551181                     15.0                     20.0  "
      ]
     },
     "metadata": {},
     "output_type": "display_data"
    },
    {
     "name": "stdout",
     "output_type": "stream",
     "text": [
      "fiber_100g : Valeurs hors limites :  1  lignes supprimées\n"
     ]
    },
    {
     "data": {
      "text/html": [
       "<div>\n",
       "<style scoped>\n",
       "    .dataframe tbody tr th:only-of-type {\n",
       "        vertical-align: middle;\n",
       "    }\n",
       "\n",
       "    .dataframe tbody tr th {\n",
       "        vertical-align: top;\n",
       "    }\n",
       "\n",
       "    .dataframe thead th {\n",
       "        text-align: right;\n",
       "    }\n",
       "</style>\n",
       "<table border=\"1\" class=\"dataframe\">\n",
       "  <thead>\n",
       "    <tr style=\"text-align: right;\">\n",
       "      <th></th>\n",
       "      <th>code</th>\n",
       "      <th>countries_fr</th>\n",
       "      <th>last_modified_datetime</th>\n",
       "      <th>product_name</th>\n",
       "      <th>pnns_groups_1</th>\n",
       "      <th>energy_100g</th>\n",
       "      <th>fat_100g</th>\n",
       "      <th>saturated-fat_100g</th>\n",
       "      <th>carbohydrates_100g</th>\n",
       "      <th>sugars_100g</th>\n",
       "      <th>fiber_100g</th>\n",
       "      <th>proteins_100g</th>\n",
       "      <th>salt_100g</th>\n",
       "      <th>sodium_100g</th>\n",
       "      <th>nutrition-score-fr_100g</th>\n",
       "      <th>nutrition-score-uk_100g</th>\n",
       "    </tr>\n",
       "  </thead>\n",
       "  <tbody>\n",
       "    <tr>\n",
       "      <th>298897</th>\n",
       "      <td>7622210988768</td>\n",
       "      <td>France</td>\n",
       "      <td>2017-04-16T19:38:10Z</td>\n",
       "      <td>Milka Schmunzelhase Alpenmilch 175G</td>\n",
       "      <td>unknown</td>\n",
       "      <td>2218.0</td>\n",
       "      <td>29.0</td>\n",
       "      <td>18.0</td>\n",
       "      <td>59.0</td>\n",
       "      <td>58.0</td>\n",
       "      <td>178.0</td>\n",
       "      <td>6.3</td>\n",
       "      <td>0.37</td>\n",
       "      <td>0.145669</td>\n",
       "      <td>22.0</td>\n",
       "      <td>22.0</td>\n",
       "    </tr>\n",
       "  </tbody>\n",
       "</table>\n",
       "</div>"
      ],
      "text/plain": [
       "                 code countries_fr last_modified_datetime  \\\n",
       "298897  7622210988768       France   2017-04-16T19:38:10Z   \n",
       "\n",
       "                               product_name pnns_groups_1  energy_100g  \\\n",
       "298897  Milka Schmunzelhase Alpenmilch 175G       unknown       2218.0   \n",
       "\n",
       "        fat_100g  saturated-fat_100g  carbohydrates_100g  sugars_100g  \\\n",
       "298897      29.0                18.0                59.0         58.0   \n",
       "\n",
       "        fiber_100g  proteins_100g  salt_100g  sodium_100g  \\\n",
       "298897       178.0            6.3       0.37     0.145669   \n",
       "\n",
       "        nutrition-score-fr_100g  nutrition-score-uk_100g  \n",
       "298897                     22.0                     22.0  "
      ]
     },
     "metadata": {},
     "output_type": "display_data"
    },
    {
     "name": "stdout",
     "output_type": "stream",
     "text": [
      "salt_100g : Valeurs hors limites :  2  lignes supprimées\n"
     ]
    },
    {
     "data": {
      "text/html": [
       "<div>\n",
       "<style scoped>\n",
       "    .dataframe tbody tr th:only-of-type {\n",
       "        vertical-align: middle;\n",
       "    }\n",
       "\n",
       "    .dataframe tbody tr th {\n",
       "        vertical-align: top;\n",
       "    }\n",
       "\n",
       "    .dataframe thead th {\n",
       "        text-align: right;\n",
       "    }\n",
       "</style>\n",
       "<table border=\"1\" class=\"dataframe\">\n",
       "  <thead>\n",
       "    <tr style=\"text-align: right;\">\n",
       "      <th></th>\n",
       "      <th>code</th>\n",
       "      <th>countries_fr</th>\n",
       "      <th>last_modified_datetime</th>\n",
       "      <th>product_name</th>\n",
       "      <th>pnns_groups_1</th>\n",
       "      <th>energy_100g</th>\n",
       "      <th>fat_100g</th>\n",
       "      <th>saturated-fat_100g</th>\n",
       "      <th>carbohydrates_100g</th>\n",
       "      <th>sugars_100g</th>\n",
       "      <th>fiber_100g</th>\n",
       "      <th>proteins_100g</th>\n",
       "      <th>salt_100g</th>\n",
       "      <th>sodium_100g</th>\n",
       "      <th>nutrition-score-fr_100g</th>\n",
       "      <th>nutrition-score-uk_100g</th>\n",
       "    </tr>\n",
       "  </thead>\n",
       "  <tbody>\n",
       "    <tr>\n",
       "      <th>232239</th>\n",
       "      <td>3423720002432</td>\n",
       "      <td>France</td>\n",
       "      <td>2017-02-01T21:21:33Z</td>\n",
       "      <td>Keeny Bio</td>\n",
       "      <td>Sugary snacks</td>\n",
       "      <td>1720.0</td>\n",
       "      <td>23.0</td>\n",
       "      <td>3.33</td>\n",
       "      <td>47.8</td>\n",
       "      <td>26.7</td>\n",
       "      <td>0.741</td>\n",
       "      <td>6.3</td>\n",
       "      <td>211.0</td>\n",
       "      <td>83.000000</td>\n",
       "      <td>22.0</td>\n",
       "      <td>22.0</td>\n",
       "    </tr>\n",
       "    <tr>\n",
       "      <th>233372</th>\n",
       "      <td>3445850070259</td>\n",
       "      <td>France</td>\n",
       "      <td>2017-03-03T14:08:14Z</td>\n",
       "      <td>Sel de Guérande Label Rouge</td>\n",
       "      <td>unknown</td>\n",
       "      <td>0.0</td>\n",
       "      <td>0.0</td>\n",
       "      <td>0.00</td>\n",
       "      <td>0.0</td>\n",
       "      <td>0.0</td>\n",
       "      <td>0.000</td>\n",
       "      <td>0.0</td>\n",
       "      <td>125.0</td>\n",
       "      <td>49.212598</td>\n",
       "      <td>10.0</td>\n",
       "      <td>10.0</td>\n",
       "    </tr>\n",
       "  </tbody>\n",
       "</table>\n",
       "</div>"
      ],
      "text/plain": [
       "                 code countries_fr last_modified_datetime  \\\n",
       "232239  3423720002432       France   2017-02-01T21:21:33Z   \n",
       "233372  3445850070259       France   2017-03-03T14:08:14Z   \n",
       "\n",
       "                       product_name  pnns_groups_1  energy_100g  fat_100g  \\\n",
       "232239                    Keeny Bio  Sugary snacks       1720.0      23.0   \n",
       "233372  Sel de Guérande Label Rouge        unknown          0.0       0.0   \n",
       "\n",
       "        saturated-fat_100g  carbohydrates_100g  sugars_100g  fiber_100g  \\\n",
       "232239                3.33                47.8         26.7       0.741   \n",
       "233372                0.00                 0.0          0.0       0.000   \n",
       "\n",
       "        proteins_100g  salt_100g  sodium_100g  nutrition-score-fr_100g  \\\n",
       "232239            6.3      211.0    83.000000                     22.0   \n",
       "233372            0.0      125.0    49.212598                     10.0   \n",
       "\n",
       "        nutrition-score-uk_100g  \n",
       "232239                     22.0  \n",
       "233372                     10.0  "
      ]
     },
     "metadata": {},
     "output_type": "display_data"
    },
    {
     "name": "stdout",
     "output_type": "stream",
     "text": [
      "Correction des unités de sodium et suppression des lignes en anomalie\n",
      "Nombre de lignes initial= 62248\n",
      "Nombre de lignes final= 58151\n",
      "Suppression des anomalies en sucre\n",
      "Nombre de lignes initial= 58151\n",
      "Nombre de lignes final= 58111\n",
      "Suppression des anomalies en gras\n",
      "Nombre de lignes initial= 58111\n",
      "Nombre de lignes final= 58094\n",
      "Correction des labels pour pnns_groups_1 :\n",
      "Labels initiaux : ['unknown' nan 'Beverages' 'Sugary snacks' 'Composite foods'\n",
      " 'Fruits and vegetables' 'Milk and dairy products' 'Salty snacks'\n",
      " 'Cereals and potatoes' 'Fat and sauces' 'Fish Meat Eggs'\n",
      " 'fruits-and-vegetables' 'sugary-snacks' 'cereals-and-potatoes']\n",
      "Labels corrigés : ['unknown' nan 'Beverages' 'Sugary snacks' 'Composite foods'\n",
      " 'Fruits and vegetables' 'Milk and dairy products' 'Salty snacks'\n",
      " 'Cereals and potatoes' 'Fat and sauces' 'Fish Meat Eggs']\n",
      "Imputation des données manquantes :\n"
     ]
    },
    {
     "data": {
      "image/png": "[encoded data removed]",
      "text/plain": [
       "<Figure size 1500x1500 with 12 Axes>"
      ]
     },
     "metadata": {},
     "output_type": "display_data"
    }
   ],
   "source": [
    "processed_data=pipeline.transform(data)"
   ]
  },
  {
   "cell_type": "code",
   "execution_count": 25,
   "metadata": {},
   "outputs": [],
   "source": [
    "processed_data.to_csv('./data/processed_data.csv')"
   ]
  }
 ],
 "metadata": {
  "kernelspec": {
   "display_name": "Python 3",
   "language": "python",
   "name": "python3"
  },
  "language_info": {
   "codemirror_mode": {
    "name": "ipython",
    "version": 3
   },
   "file_extension": ".py",
   "mimetype": "text/x-python",
   "name": "python",
   "nbconvert_exporter": "python",
   "pygments_lexer": "ipython3",
   "version": "3.11.3"
  },
  "orig_nbformat": 4
 },
 "nbformat": 4,
 "nbformat_minor": 2
}
